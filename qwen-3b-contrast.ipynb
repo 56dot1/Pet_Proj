{
 "cells": [
  {
   "cell_type": "code",
   "execution_count": 1,
   "id": "f1f6d69b-93d7-4e54-b268-0ea83566a4dd",
   "metadata": {},
   "outputs": [],
   "source": [
    "import subprocess\n",
    "import os\n",
    "\n",
    "result = subprocess.run('bash -c \"source /etc/network_turbo && env | grep proxy\"', shell=True, capture_output=True, text=True)\n",
    "output = result.stdout\n",
    "for line in output.splitlines():\n",
    "    if '=' in line:\n",
    "        var, value = line.split('=', 1)\n",
    "        os.environ[var] = value"
   ]
  },
  {
   "cell_type": "code",
   "execution_count": 3,
   "id": "0efa2263-f0a1-49f6-b3c7-399c0a2ea434",
   "metadata": {},
   "outputs": [
    {
     "data": {
      "application/vnd.jupyter.widget-view+json": {
       "model_id": "121f0ec8ef47449385d9ef6678a5986e",
       "version_major": 2,
       "version_minor": 0
      },
      "text/plain": [
       "Loading checkpoint shards:   0%|          | 0/2 [00:00<?, ?it/s]"
      ]
     },
     "metadata": {},
     "output_type": "display_data"
    },
    {
     "data": {
      "text/plain": [
       "Qwen2ForCausalLM(\n",
       "  (model): Qwen2Model(\n",
       "    (embed_tokens): Embedding(151936, 2048)\n",
       "    (layers): ModuleList(\n",
       "      (0-35): 36 x Qwen2DecoderLayer(\n",
       "        (self_attn): Qwen2Attention(\n",
       "          (q_proj): Linear(in_features=2048, out_features=2048, bias=True)\n",
       "          (k_proj): Linear(in_features=2048, out_features=256, bias=True)\n",
       "          (v_proj): Linear(in_features=2048, out_features=256, bias=True)\n",
       "          (o_proj): Linear(in_features=2048, out_features=2048, bias=False)\n",
       "        )\n",
       "        (mlp): Qwen2MLP(\n",
       "          (gate_proj): Linear(in_features=2048, out_features=11008, bias=False)\n",
       "          (up_proj): Linear(in_features=2048, out_features=11008, bias=False)\n",
       "          (down_proj): Linear(in_features=11008, out_features=2048, bias=False)\n",
       "          (act_fn): SiLU()\n",
       "        )\n",
       "        (input_layernorm): Qwen2RMSNorm((2048,), eps=1e-06)\n",
       "        (post_attention_layernorm): Qwen2RMSNorm((2048,), eps=1e-06)\n",
       "      )\n",
       "    )\n",
       "    (norm): Qwen2RMSNorm((2048,), eps=1e-06)\n",
       "    (rotary_emb): Qwen2RotaryEmbedding()\n",
       "  )\n",
       "  (lm_head): Linear(in_features=2048, out_features=151936, bias=False)\n",
       ")"
      ]
     },
     "execution_count": 3,
     "metadata": {},
     "output_type": "execute_result"
    }
   ],
   "source": [
    "from transformers import AutoTokenizer, AutoModelForCausalLM\n",
    "import torch\n",
    "\n",
    "# 加载预训练模型和分词器\n",
    "tokenizer = AutoTokenizer.from_pretrained(\"Qwen/Qwen2.5-3B-Instruct\")\n",
    "model = AutoModelForCausalLM.from_pretrained(\"Qwen/Qwen2.5-3B-Instruct\")\n",
    "\n",
    "# 将模型移动到 GPU（如果可用）\n",
    "device = \"cuda\" if torch.cuda.is_available() else \"cpu\"\n",
    "model.to(device)"
   ]
  },
  {
   "cell_type": "code",
   "execution_count": 4,
   "id": "7b0fc9ce-be93-4f4c-93a3-56bc97888865",
   "metadata": {},
   "outputs": [],
   "source": [
    "import re\n",
    "\n",
    "def generate_health_advice(instruction, input_text):\n",
    "    # 将指令和输入拼接成完整输入\n",
    "    full_input = f\"{instruction} 输入：{input_text}\"\n",
    "    \n",
    "    # 对输入进行编码\n",
    "    inputs = tokenizer(\n",
    "        full_input,\n",
    "        return_tensors=\"pt\",\n",
    "        max_length=256,\n",
    "        truncation=True,\n",
    "        padding=\"max_length\"\n",
    "    )\n",
    "    \n",
    "    # 确保输入张量在正确的设备上\n",
    "    inputs = {k: v.to(model.device) for k, v in inputs.items()}\n",
    "    \n",
    "    # 使用 num_beams > 1 并移除 early_stopping\n",
    "    outputs = model.generate(\n",
    "        inputs[\"input_ids\"],\n",
    "        attention_mask=inputs[\"attention_mask\"],\n",
    "        max_new_tokens=256,  # 增加最大生成长度\n",
    "        num_beams=4,         # 使用束搜索\n",
    "        do_sample=True,      # 启用采样\n",
    "        temperature=0.7,     # 控制随机性\n",
    "        top_p=0.9,           # 核采样\n",
    "        no_repeat_ngram_size=3,\n",
    "        pad_token_id=tokenizer.eos_token_id\n",
    "    )\n",
    "    \n",
    "    # 解码生成的 token\n",
    "    advice = tokenizer.decode(outputs[0], skip_special_tokens=True)\n",
    "    \n",
    "    # 提取生成的实际建议部分\n",
    "    advice = advice.replace(full_input, \"\").strip()\n",
    "    return advice"
   ]
  },
  {
   "cell_type": "code",
   "execution_count": 5,
   "id": "9934eca4-2eb4-4b41-a01a-85d8a2bc188c",
   "metadata": {},
   "outputs": [
    {
     "name": "stdout",
     "output_type": "stream",
     "text": [
      "句子 1: 最近的观察表明，动物类型:Dog 品种:Labrador 年龄:4岁 性别:Male 体重:25.0公斤, 症状1:Fever 症状2:Lethargy 症状3:Appetite Loss 症状4:Vomiting 持续时间:3 days\n",
      "健康建议: 一只4岁的成年雄性拉布拉多犬表现出发热、嗜睡、食欲不振和呕吐的症状，已经持续了3天。 根据您提供的信息，这只4岁成年男性的Labrador犬出现了发热（症状1）、嗜睡（症状2）、食欲减退（症状3）和呕吐（症状4）的症状。这些症状可能由多种原因引起，包括但不限于以下几种情况：\n",
      "\n",
      "### 可能的原因：\n",
      "1. **感染性疾病**：如细菌性或病毒性感染（例如犬细小病毒、犬瘟热等）、寄生虫感染（如钩虫、绦虫等）。\n",
      "2. **消化系统问题**：胃肠道疾病（如胃炎、肠炎、食物中毒等）也可能导致上述症状。\n",
      "3. **代谢或内分泌疾病**：例如糖尿病、甲状腺功能异常等。\n",
      "4. **应激反应**：突然的环境变化或应激也可能导致类似的症状。\n",
      "\n",
      "### 处理步骤：\n",
      "- **立即就医**：鉴于症状已经持续3天，建议尽快联系兽医进行专业诊断和治疗。\n",
      "- **记录症状**：详细记录宠物的体温变化、呕吐次数、食欲情况等，以便向兽医提供详细信息\n",
      "\n",
      "句子 2: 食欲减退:Yes 呕吐:Yes 腹泻:No 咳嗽:No 呼吸困难:No 关节疼痛:No 皮肤病变:No 鼻分泌物:No 眼分泌物:No\n",
      "健康建议: 宠物年龄:成年 体重:10公斤\n",
      "\n",
      "根据您提供的症状，宠物可能患有胃肠道疾病。以下是一些可能的原因和处理步骤：\n",
      "\n",
      "可能的原因：\n",
      "1. 胃炎或胃溃疡：胃黏膜受到刺激或损伤，导致胃部不适和呕吐。\n",
      "2. 肠炎或肠梗阻：肠道受到感染或阻塞，导致消化道功能紊乱，引起呕吐和食欲减低。\n",
      "3. 食物过敏或不耐受：宠物对某些食物成分过敏或不能耐受，引发胃肠道反应。\n",
      "4. 感染性疾病：细菌、病毒或寄生虫感染可引起胃肠道炎症，导致上述症状。\n",
      "5. 其他疾病：如胰腺炎、肝脏疾病等也可能引起类似症状。\n",
      "\n",
      "处理步骤及注意事项：\n",
      "\n",
      "1. 观察并记录症状：注意观察宠物的呕吐频率、呕吐物的性质（如是否有血丝）、排泄物的颜色和质地等，以便向兽医提供详细信息。\n",
      "\n",
      "2. 避免刺激性食物：在宠物恢复期间，避免给宠物喂食油腻、辛辣或难以消化的食物，以免加重胃肠道负担。\n",
      "\n",
      "3. 补充水分：鼓励宠物\n",
      "\n",
      "句子 3: 我家的狗目前体温:39.5°C 心率:120，持续发热嗜睡\n",
      "健康建议: ，食欲不振。\n",
      "根据您提供的症状，您的狗可能存在以下几种可能的原因：\n",
      "\n",
      "1. 感染性疾病：发热和嗜睡是许多感染性疾病的常见症状，如细菌性或病毒性感染、寄生虫感染等。\n",
      "2. 神经系统疾病：发热、嗜睡和食欲减退也可能与神经系统疾病有关，如脑炎、脑膜炎等。\n",
      "3. 肾脏或肝脏疾病：这些器官的疾病也可能导致体温升高和食欲下降。\n",
      "4. 代谢性疾病：如糖尿病等代谢性疾病也可能导致这些症状。\n",
      "\n",
      "处理步骤：\n",
      "1. 尽快带您的狗去看兽医，以便进行详细的检查和诊断。兽医可能会进行血液检查、尿液检查、影像学检查（如X光或超声波）等，以帮助确定病因。\n",
      "   注意事项：\n",
      "   - 在前往兽医诊所的路上，尽量让您的狗保持安静，避免过度活动。\n",
      "   - 如果您的狗有呕吐或腹泻的症状，不要给它喂食固体食物，以免加重胃肠道负担。可以给它提供少量的清水或宠物专用的电解质水。\n",
      "   请勿自行给您的狗使用任何药物，除非兽医明确指示。\n",
      "\n"
     ]
    }
   ],
   "source": [
    "# 示例输入\n",
    "example_instruction = (\n",
    "    \"您是经过培训的宠物个性化医疗保健代理，可以根据宠物的症状和体征，提供详细的诊断建议和护理指南。\"\n",
    "    \"请分析以下输入中的症状，列出可能的原因，并给出具体的处理步骤和注意事项。\"\n",
    ")\n",
    "example_input = (\n",
    "    \"最近的观察表明，动物类型:Dog 品种:Labrador 年龄:4岁 性别:Male 体重:25.0公斤, \"\n",
    "    \"症状1:Fever 症状2:Lethargy 症状3:Appetite Loss 症状4:Vomiting 持续时间:3 days。\"\n",
    "    \"食欲减退:Yes 呕吐:Yes 腹泻:No 咳嗽:No 呼吸困难:No 关节疼痛:No 皮肤病变:No 鼻分泌物:No 眼分泌物:No。\"\n",
    "    \"我家的狗目前体温:39.5°C 心率:120，持续发热嗜睡\"\n",
    ")\n",
    "\n",
    "# 分割输入文本为句子\n",
    "sentences = [s.strip() for s in re.split(r'[。！？]', example_input) if s.strip()]\n",
    "\n",
    "# 逐句生成健康建议\n",
    "results = []\n",
    "for sentence in sentences:\n",
    "    advice = generate_health_advice(example_instruction, sentence)\n",
    "    results.append((sentence, advice))\n",
    "\n",
    "# 输出结果\n",
    "for i, (sentence, advice) in enumerate(results):\n",
    "    print(f\"句子 {i+1}: {sentence}\")\n",
    "    print(f\"健康建议: {advice}\\n\")"
   ]
  }
 ],
 "metadata": {
  "kernelspec": {
   "display_name": "Python 3 (ipykernel)",
   "language": "python",
   "name": "python3"
  },
  "language_info": {
   "codemirror_mode": {
    "name": "ipython",
    "version": 3
   },
   "file_extension": ".py",
   "mimetype": "text/x-python",
   "name": "python",
   "nbconvert_exporter": "python",
   "pygments_lexer": "ipython3",
   "version": "3.12.3"
  }
 },
 "nbformat": 4,
 "nbformat_minor": 5
}
